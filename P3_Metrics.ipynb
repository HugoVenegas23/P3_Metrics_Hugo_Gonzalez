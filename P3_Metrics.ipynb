{
  "nbformat": 4,
  "nbformat_minor": 0,
  "metadata": {
    "colab": {
      "provenance": [],
      "authorship_tag": "ABX9TyOkabNQzD63l8g0Wf0PZ+L8",
      "include_colab_link": true
    },
    "kernelspec": {
      "name": "python3",
      "display_name": "Python 3"
    },
    "language_info": {
      "name": "python"
    }
  },
  "cells": [
    {
      "cell_type": "markdown",
      "metadata": {
        "id": "view-in-github",
        "colab_type": "text"
      },
      "source": [
        "<a href=\"https://colab.research.google.com/github/HugoVenegas23/P3_Metrics_Hugo_Gonzalez/blob/main/P3_Metrics.ipynb\" target=\"_parent\"><img src=\"https://colab.research.google.com/assets/colab-badge.svg\" alt=\"Open In Colab\"/></a>"
      ]
    },
    {
      "cell_type": "markdown",
      "source": [
        "#Práctica 3\n",
        "Nombre: Hugo Esteban González Venegas\n",
        "e-mail: hugo.gonzalez0181@alumnos.udg.mx"
      ],
      "metadata": {
        "id": "WNPhVPjnaC24"
      }
    },
    {
      "cell_type": "markdown",
      "source": [
        "##Módulos"
      ],
      "metadata": {
        "id": "v2-5XXMKaSnw"
      }
    },
    {
      "cell_type": "code",
      "execution_count": 1,
      "metadata": {
        "id": "F3bV3JVpZrMJ"
      },
      "outputs": [],
      "source": [
        "import math\n",
        "import numpy as np\n",
        "import pandas as pd\n",
        "\n",
        "import plotly.graph_objects as go\n",
        "\n",
        "from scipy.stats import wrapcauchy\n",
        "from scipy.stats import levy_stable\n",
        "\n",
        "from scipy.spatial import distance"
      ]
    },
    {
      "cell_type": "markdown",
      "source": [
        "##Clases"
      ],
      "metadata": {
        "id": "eOURBvUpajWJ"
      }
    },
    {
      "cell_type": "code",
      "source": [
        "################# http://www.pygame.org/wiki/2DVectorClass ##################\n",
        "class Vec2d(object):\n",
        "    \"\"\"2d vector class, supports vector and scalar operators,\n",
        "       and also provides a bunch of high level functions\n",
        "       \"\"\"\n",
        "    __slots__ = ['x', 'y']\n",
        "\n",
        "    def __init__(self, x_or_pair, y = None):\n",
        "        if y == None:\n",
        "            self.x = x_or_pair[0]\n",
        "            self.y = x_or_pair[1]\n",
        "        else:\n",
        "            self.x = x_or_pair\n",
        "            self.y = y\n",
        "\n",
        "    # Addition\n",
        "    def __add__(self, other):\n",
        "        if isinstance(other, Vec2d):\n",
        "            return Vec2d(self.x + other.x, self.y + other.y)\n",
        "        elif hasattr(other, \"__getitem__\"):\n",
        "            return Vec2d(self.x + other[0], self.y + other[1])\n",
        "        else:\n",
        "            return Vec2d(self.x + other, self.y + other)\n",
        "\n",
        "    # Subtraction\n",
        "    def __sub__(self, other):\n",
        "        if isinstance(other, Vec2d):\n",
        "            return Vec2d(self.x - other.x, self.y - other.y)\n",
        "        elif (hasattr(other, \"__getitem__\")):\n",
        "            return Vec2d(self.x - other[0], self.y - other[1])\n",
        "        else:\n",
        "            return Vec2d(self.x - other, self.y - other)\n",
        "\n",
        "    # Vector length\n",
        "    def get_length(self):\n",
        "        return math.sqrt(self.x**2 + self.y**2)\n",
        "\n",
        "    # rotate vector\n",
        "    def rotated(self, angle):\n",
        "        cos = math.cos(angle)\n",
        "        sin = math.sin(angle)\n",
        "        x = self.x*cos - self.y*sin\n",
        "        y = self.x*sin + self.y*cos\n",
        "        return Vec2d(x, y)"
      ],
      "metadata": {
        "id": "eRaLn5RVakZ7"
      },
      "execution_count": 2,
      "outputs": []
    },
    {
      "cell_type": "markdown",
      "source": [
        "##Funciones"
      ],
      "metadata": {
        "id": "KFhvT-F_apu-"
      }
    },
    {
      "cell_type": "code",
      "source": [
        "###############################################################################################\n",
        "# Turning angle\n",
        "# This function calculates the turning angle between three consecutive positions\n",
        "###############################################################################################\n",
        "def turning_angle(pos_a, pos_b, pos_c):\n",
        "    \"\"\"\n",
        "    Arguments:\n",
        "        pos_a: First position coordinates\n",
        "        pos_b: Second position coordinates\n",
        "        pos_c: Third position coordinates\n",
        "    Returns:\n",
        "        theta: Turning angle\n",
        "    \"\"\"\n",
        "    vec_ab = Vec2d(pos_b) - Vec2d(pos_a)\n",
        "    norm_ab = vec_ab.get_length()\n",
        "\n",
        "    vec_bc = Vec2d(pos_c) - Vec2d(pos_b)\n",
        "    norm_bc = vec_bc.get_length()\n",
        "\n",
        "    dot_p = vec_ab.x * vec_bc.x + vec_ab.y * vec_bc.y\n",
        "\n",
        "    cos_theta = dot_p/(norm_ab*norm_bc+np.finfo(float).eps)\n",
        "\n",
        "    # Angle orientation\n",
        "    cross_p = vec_ab.x * vec_bc.y - vec_ab.y * vec_bc.x\n",
        "    orient = np.sign(cross_p)\n",
        "    if orient == 0:\n",
        "        orient = 1\n",
        "\n",
        "    theta = np.arccos(np.around(cos_theta,4)) * orient\n",
        "    return theta\n"
      ],
      "metadata": {
        "id": "tbgqVIWlamyF"
      },
      "execution_count": 6,
      "outputs": []
    },
    {
      "cell_type": "markdown",
      "source": [
        "## Actividad 1: Path Length - (BM1 vs BM2 vs CRW)\n",
        "\n",
        "* Implementar función que genere **Brownian Motions** (BM) utilizando **pandas**.\n",
        "* Implementar función que genere **Correlated Random Walks** (CRW) utilizando pandas.\n",
        "* Implementar una función alternativa a las ya disponibles en los distintos modulos de python que calcule los valores de la curva de **path length** de una trayectoria.\n",
        "* Guardar los valores de la métrica en un Data Frame de **pandas**.\n",
        "* Visualizar con **plotly**."
      ],
      "metadata": {
        "id": "c2buIEI2azLH"
      }
    },
    {
      "cell_type": "code",
      "source": [
        "# Load existing trajectories to test your implementation\n",
        "# BM speed = 3\n",
        "BM_2d_df_3 = pd.read_csv('trajectories/brownian_3.csv')\n",
        "\n",
        "# Load existing trajectories to test your implementation\n",
        "# BM speed = 6\n",
        "BM_2d_df_6 = pd.read_csv('trajectories/brownian_6.csv')\n",
        "\n",
        "# Load existing trajectories to test your implementation\n",
        "CRW_2d_df_9 = pd.read_csv('trajectories/crw_6_9.csv')\n",
        "\n",
        "def dis_long(traj):\n",
        "    distancias = [np.linalg.norm(traj.iloc[i-1] - traj.iloc[i]) for i in range(1, traj.shape[0])]\n",
        "    long = np.cumsum(distance)\n",
        "    return distance, long\n",
        "\n",
        "# Para BM_3\n",
        "dis_BM_3, pl_BM_3 = dis_long(BM_2d_df_3)\n",
        "\n",
        "# Para BM_6\n",
        "dis_BM_6, pl_BM_6 = dis_long(BM_2d_df_6)\n",
        "\n",
        "# Para CRW_9\n",
        "dis_CRW_9, pl_CRW_9 = dis_long(CRW_2d_df_9)\n"
      ],
      "metadata": {
        "id": "1x1QQhZyatTT"
      },
      "execution_count": 7,
      "outputs": []
    },
    {
      "cell_type": "code",
      "source": [],
      "metadata": {
        "id": "BHu2vs5uhxcl"
      },
      "execution_count": null,
      "outputs": []
    }
  ]
}